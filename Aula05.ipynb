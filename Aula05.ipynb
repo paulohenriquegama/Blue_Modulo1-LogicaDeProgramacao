{
  "nbformat": 4,
  "nbformat_minor": 0,
  "metadata": {
    "colab": {
      "name": "Aula05.ipynb",
      "provenance": [],
      "authorship_tag": "ABX9TyO/Z20ua92InrQ998xhHEWa",
      "include_colab_link": true
    },
    "kernelspec": {
      "name": "python3",
      "display_name": "Python 3"
    },
    "language_info": {
      "name": "python"
    }
  },
  "cells": [
    {
      "cell_type": "markdown",
      "metadata": {
        "id": "view-in-github",
        "colab_type": "text"
      },
      "source": [
        "<a href=\"https://colab.research.google.com/github/paulohenriquegama/Blue_Modulo1-LogicaDeProgramacao/blob/main/Aula05.ipynb\" target=\"_parent\"><img src=\"https://colab.research.google.com/assets/colab-badge.svg\" alt=\"Open In Colab\"/></a>"
      ]
    },
    {
      "cell_type": "code",
      "metadata": {
        "colab": {
          "base_uri": "https://localhost:8080/"
        },
        "id": "UPpXKVMJJiZR",
        "outputId": "34c545c9-1902-4fc4-8cad-b463e1089b58"
      },
      "source": [
        "numero1 = int(input(\"Digite o primeiro número inteiro: \"))\n",
        "numero2 = int(input(\"Digite o segundo número inteiro: \"))\n",
        "numero3 = int(input(\"Digite o terceiro número inteiro: \"))\n",
        "\n",
        "if numero1 == numero2 == numero3:\n",
        "  print(\"Os numeros digitados são iguais\")\n",
        "else:\n",
        "  if numero1 >= numero2 and numero1 >= numero3:\n",
        "    print(\"O Primeiro numero é o maior\")\n",
        "  elif numero2 >= numero1 and numero2 >= numero3:\n",
        "    print(\"O Segundo numero é o Maior\")\n",
        "  else:\n",
        "    print(\"O Terceiro numero é maior\")\n",
        "\n",
        "  if numero1 <= numero2 and numero1 <= numero3:\n",
        "    print(\"O Primeiro numero é o menor\")\n",
        "  elif numero2 <= numero1 and numero2 <= numero3:\n",
        "    print(\"O Segundo numero é o menor\")\n",
        "  else:\n",
        "    print(\"O Terceiro numero é o menor\")\n",
        "\n"
      ],
      "execution_count": 36,
      "outputs": [
        {
          "output_type": "stream",
          "text": [
            "Digite o primeiro número inteiro: 2\n",
            "Digite o segundo número inteiro: 2\n",
            "Digite o terceiro número inteiro: 2\n",
            "Os numeros digitados são iguais\n"
          ],
          "name": "stdout"
        }
      ]
    },
    {
      "cell_type": "code",
      "metadata": {
        "colab": {
          "base_uri": "https://localhost:8080/"
        },
        "id": "c7X1gadpP1zY",
        "outputId": "8fe713d8-f402-43ea-a981-e946c82b88e3"
      },
      "source": [
        "numero1 = int(input(\"Digite o primeiro número inteiro: \"))\n",
        "numero2 = int(input(\"Digite o segundo número inteiro: \"))\n",
        "\n",
        "\n",
        "if numero1 > numero2:\n",
        "  print(\"O Primeiro numero é o maior\")\n",
        "elif numero2 > numero1:\n",
        "  print(\"O Segundo numero é o Maior\")\n",
        "else:\n",
        "  print(\"Os dois números são iguais\")\n",
        "\n"
      ],
      "execution_count": 18,
      "outputs": [
        {
          "output_type": "stream",
          "text": [
            "Digite o primeiro número inteiro: 2\n",
            "Digite o segundo número inteiro: 2\n",
            "Os dois números são iguais\n"
          ],
          "name": "stdout"
        }
      ]
    },
    {
      "cell_type": "code",
      "metadata": {
        "colab": {
          "base_uri": "https://localhost:8080/"
        },
        "id": "ULy1wn-eQX4R",
        "outputId": "dd5c15b9-3b50-49a3-9fb6-28fea771362d"
      },
      "source": [
        "nun = float(input(\"Digite um numero\"))\n",
        "\n",
        "if nun >= 0:\n",
        "  print(\"O numero digitado é positivo\")\n",
        "else:\n",
        "  print(\"O número digitado é negativo\") \n"
      ],
      "execution_count": 21,
      "outputs": [
        {
          "output_type": "stream",
          "text": [
            "Digite um numero2\n",
            "O numero digitado é positivo\n"
          ],
          "name": "stdout"
        }
      ]
    },
    {
      "cell_type": "code",
      "metadata": {
        "colab": {
          "base_uri": "https://localhost:8080/"
        },
        "id": "Mk4hBrabRm1w",
        "outputId": "db42dcff-a7d2-4c0f-ce83-6b3576254ae7"
      },
      "source": [
        "sexo = input(\"Digite F para feminino e M para masculino\")\n",
        "\n",
        "if sexo == \"F\":\n",
        "  print(\"Sexo feminino\")\n",
        "elif sexo == \"M\":\n",
        "  print(\"Sexo masculino\")\n",
        "else:\n",
        "  print(\"Por favor digite 'F' ou 'M' \")\n"
      ],
      "execution_count": 27,
      "outputs": [
        {
          "output_type": "stream",
          "text": [
            "Digite F para feminino e M para masculinof\n",
            "Por favor digite 'F' ou 'M' \n"
          ],
          "name": "stdout"
        }
      ]
    },
    {
      "cell_type": "code",
      "metadata": {
        "colab": {
          "base_uri": "https://localhost:8080/"
        },
        "id": "zM3j82WIWLD_",
        "outputId": "50aa42fe-5bc4-40e8-c03b-130fe378949b"
      },
      "source": [
        "nota = float(input(\"Digite uma nota: \"))\n",
        "\n",
        "if nota < 6:\n",
        "  print(\"Nota F\")\n",
        "elif nota >=6 and nota <7:\n",
        "  print(\"Nota D\")\n",
        "elif nota >=7 and nota <8:\n",
        "  print(\"Nota C\")\n",
        "elif nota >=8 and nota <9:\n",
        "   print(\"Nota B\")\n",
        "else:\n",
        "  print(\"Nota A\")"
      ],
      "execution_count": 39,
      "outputs": [
        {
          "output_type": "stream",
          "text": [
            "Digite uma nota: 8\n",
            "Nota B\n"
          ],
          "name": "stdout"
        }
      ]
    },
    {
      "cell_type": "code",
      "metadata": {
        "colab": {
          "base_uri": "https://localhost:8080/"
        },
        "id": "vZ_dbGRpY8OW",
        "outputId": "e02fd323-0e77-42ea-b73d-1b7c58b413d2"
      },
      "source": [
        "letra = input(\"Digite uma letra: \")\n",
        "letra = letra.lower()\n",
        "\n",
        "if letra == \"a\" or letra == \"e\" or letra == \"i\" or letra == \"o\" or letra == \"u\":\n",
        "  print(\"A letra digitada é vogal\")\n",
        "else:\n",
        "  print(\"A letra digitada é consoante\") "
      ],
      "execution_count": 50,
      "outputs": [
        {
          "output_type": "stream",
          "text": [
            "Digite uma letra: A\n",
            "A letra digitada é vogal\n"
          ],
          "name": "stdout"
        }
      ]
    },
    {
      "cell_type": "code",
      "metadata": {
        "colab": {
          "base_uri": "https://localhost:8080/"
        },
        "id": "Khpi6bKleTst",
        "outputId": "6f5d8dd0-bc32-4953-b124-e25f529af946"
      },
      "source": [
        "espada = input(\"Digite uma palavra: \")\n",
        "\n",
        "if espada == \"medieval\":\n",
        "  print(\"Espada\")\n",
        "elif espada == \"futurista\":\n",
        "  print(\"Sabre de luz\")\n",
        "else:\n",
        "  print(\"Tente novamente\")\n",
        "\n",
        "  "
      ],
      "execution_count": 53,
      "outputs": [
        {
          "output_type": "stream",
          "text": [
            "Digite uma palavra: das\n",
            "Tente novamente\n"
          ],
          "name": "stdout"
        }
      ]
    },
    {
      "cell_type": "code",
      "metadata": {
        "id": "bJmBR5dbflQd"
      },
      "source": [
        "espada = input(\"Digite uma palavra: \")\n",
        "\n",
        "if espada == \"medieval\":\n",
        "  print(\"Espada\")\n",
        "  print()\n",
        "  print(\"VOCÊ AINDA NÃO MATOU O CHEFÃO\")\n",
        "elif espada == \"futurista\":\n",
        "  print(\"Sabre de luz\")\n",
        "  print(\"VOCE DERROTOU  O CHEFÃO COM SABRE DE LUZ\")\n",
        "else:\n",
        "  print(\"Tente novamente\")\n"
      ],
      "execution_count": null,
      "outputs": []
    },
    {
      "cell_type": "code",
      "metadata": {
        "colab": {
          "base_uri": "https://localhost:8080/"
        },
        "id": "lHAx9FJrguFu",
        "outputId": "4b140054-7008-44df-d98f-c51c0a439a4c"
      },
      "source": [
        "salario = float(input(\"Digite o salário atual: \"))\n",
        "nonosalario = salario\n",
        "if salario <= 280:\n",
        "  novosalario = salario + (salario *20/100)\n",
        "  print(f'O Seu salario era {salario} vc teve 20% de aumento e agora seu salario é {novosalario}')\n",
        "elif salario <= 700:\n",
        "  novosalario = salario + (salario *15/100)\n",
        "  print(f'O Seu salario era {salario} vc teve 15% de aumento e agora seu salario é {novosalario}')\n",
        "elif salario <= 1500:\n",
        "  novosalario = salario + (salario *10/100)\n",
        "  print(f'O Seu salario era {salario} vc teve 10% de aumento e agora seu salario é {novosalario}')\n",
        "if salario > 1500:\n",
        "  novosalario = salario + (salario *5/100)\n",
        "  print(f'O Seu salario era {salario} vc teve 5% de aumento e agora seu salario é {novosalario}')\n",
        "else:\n",
        "  print(\"Você não digitou um valor de salario valido!\")"
      ],
      "execution_count": 70,
      "outputs": [
        {
          "output_type": "stream",
          "text": [
            "Digite o salário atual: 500\n",
            "O Seu salario era 500.0 vc teve 15% de aumento e agora seu salario é 575.0\n"
          ],
          "name": "stdout"
        }
      ]
    },
    {
      "cell_type": "code",
      "metadata": {
        "colab": {
          "base_uri": "https://localhost:8080/"
        },
        "id": "zUyb12K2muiK",
        "outputId": "a8bee983-c035-4179-9072-ffe17d7c0efd"
      },
      "source": [
        "saque = float(input(\"Informe o valor que você deseja sacar: \"))\n",
        "resto = 0\n",
        "nota1 = 0\n",
        "nota5 = 0\n",
        "nota10 = 0\n",
        "nota50 = 0\n",
        "nota100 = 0\n",
        "\n",
        "if saque >= 100:\n",
        "  nota100 = saque//100\n",
        "  resto = saque%100\n",
        "  if resto >= 50:\n",
        "    nota50 = resto//50\n",
        "    resto = resto%50\n",
        "  if resto >= 10:\n",
        "    nota10 = resto//10\n",
        "    resto = resto%10\n",
        "  if resto >= 5:\n",
        "    nota5 = resto//5\n",
        "    resto = resto%5\n",
        "  if resto >= 1:\n",
        "    nota1 = resto\n",
        "elif saque >= 50:\n",
        "    nota50 = saque//50\n",
        "    resto = saque%50\n",
        "    if resto >= 10:\n",
        "      nota10 = resto//10\n",
        "      resto = resto%10\n",
        "    if resto >= 5:\n",
        "      nota5 = resto//5\n",
        "      resto = resto%5\n",
        "    if resto >= 1:\n",
        "      nota1 = resto\n",
        "elif saque >= 10:\n",
        "    nota10 = saque//10\n",
        "    resto = saque%10\n",
        "    if resto >= 5:\n",
        "      nota5 = resto//5\n",
        "      resto = resto%5\n",
        "    if resto >= 1:\n",
        "      nota1 = resto\n",
        "elif saque >= 5:\n",
        "    nota5 = saque//5\n",
        "    resto = saque%5\n",
        "    if resto >= 1:\n",
        "      nota1 = resto\n",
        "else:\n",
        "  nota1 = saque\n",
        "\n",
        "\n",
        "print(f\"Você recebeu {nota100} notas de 100 reais\")\n",
        "print(f\"Você recebeu {nota50} notas de 50 reais\")\n",
        "print(f\"Você recebeu {nota10} notas de 10 reais\")\n",
        "print(f\"Você recebeu {nota5} notas de 5 reais\")\n",
        "print(f\"Você recebeu {nota1} notas de 1 real\")\n",
        "\n"
      ],
      "execution_count": 97,
      "outputs": [
        {
          "output_type": "stream",
          "text": [
            "Informe o valor que você deseja sacar: 1552\n",
            "Você recebeu 15.0 notas de 100 reais\n",
            "Você recebeu 1.0 notas de 50 reais\n",
            "Você recebeu 0 notas de 10 reais\n",
            "Você recebeu 0 notas de 5 reais\n",
            "Você recebeu 2.0 notas de 1 real\n"
          ],
          "name": "stdout"
        }
      ]
    }
  ]
}