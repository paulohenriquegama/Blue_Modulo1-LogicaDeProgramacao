{
  "nbformat": 4,
  "nbformat_minor": 0,
  "metadata": {
    "colab": {
      "name": "Aula01.ipynb",
      "provenance": [],
      "authorship_tag": "ABX9TyObepDb8dZpi8YDeiANb+jd",
      "include_colab_link": true
    },
    "kernelspec": {
      "name": "python3",
      "display_name": "Python 3"
    },
    "language_info": {
      "name": "python"
    }
  },
  "cells": [
    {
      "cell_type": "markdown",
      "metadata": {
        "id": "view-in-github",
        "colab_type": "text"
      },
      "source": [
        "<a href=\"https://colab.research.google.com/github/paulohenriquegama/Blue_Modulo1-LogicaDeProgramacao/blob/main/Aula01.ipynb\" target=\"_parent\"><img src=\"https://colab.research.google.com/assets/colab-badge.svg\" alt=\"Open In Colab\"/></a>"
      ]
    },
    {
      "cell_type": "code",
      "metadata": {
        "id": "AyHyfUlEEEed"
      },
      "source": [
        ""
      ],
      "execution_count": null,
      "outputs": []
    },
    {
      "cell_type": "markdown",
      "metadata": {
        "id": "tHRABCmlEnGE"
      },
      "source": [
        "# Comando Print()"
      ]
    },
    {
      "cell_type": "code",
      "metadata": {
        "colab": {
          "base_uri": "https://localhost:8080/"
        },
        "id": "VBsU8TSVFBaV",
        "outputId": "755de70e-f681-4d85-b439-5d6c78a6566d"
      },
      "source": [
        "print('Olá Mundo')"
      ],
      "execution_count": 4,
      "outputs": [
        {
          "output_type": "stream",
          "text": [
            "Olá Mundo\n"
          ],
          "name": "stdout"
        }
      ]
    },
    {
      "cell_type": "code",
      "metadata": {
        "colab": {
          "base_uri": "https://localhost:8080/"
        },
        "id": "hNKG0VJfFZju",
        "outputId": "4d5a0fa2-8296-42da-af89-aa1dbac605a4"
      },
      "source": [
        "print(\"Palmenras 'não' tem Mundial\")"
      ],
      "execution_count": 9,
      "outputs": [
        {
          "output_type": "stream",
          "text": [
            "Palmenras 'não' tem Mundial\n"
          ],
          "name": "stdout"
        }
      ]
    },
    {
      "cell_type": "code",
      "metadata": {
        "colab": {
          "base_uri": "https://localhost:8080/"
        },
        "id": "GfSuxCP5IWbH",
        "outputId": "c05f2102-fea8-4d2c-b733-784330020f6d"
      },
      "source": [
        "7*8\n",
        "print(\"Olá Mundo\")"
      ],
      "execution_count": 13,
      "outputs": [
        {
          "output_type": "stream",
          "text": [
            "Olá Mundo\n"
          ],
          "name": "stdout"
        }
      ]
    },
    {
      "cell_type": "code",
      "metadata": {
        "colab": {
          "base_uri": "https://localhost:8080/"
        },
        "id": "VE7y4HlSKKXO",
        "outputId": "8d877aee-cf05-4d6b-a450-ebb07cb58dcc"
      },
      "source": [
        "print(25//4)"
      ],
      "execution_count": 24,
      "outputs": [
        {
          "output_type": "stream",
          "text": [
            "6\n"
          ],
          "name": "stdout"
        }
      ]
    },
    {
      "cell_type": "code",
      "metadata": {
        "id": "BepU0f35KpTW"
      },
      "source": [
        "a"
      ],
      "execution_count": null,
      "outputs": []
    }
  ]
}